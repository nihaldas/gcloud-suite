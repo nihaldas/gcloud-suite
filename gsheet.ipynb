{
 "cells": [
  {
   "cell_type": "code",
   "execution_count": 1,
   "metadata": {},
   "outputs": [],
   "source": [
    "from __future__ import print_function\n",
    "import os\n",
    "\n",
    "from google.oauth2 import service_account\n",
    "from googleapiclient.discovery import build\n",
    "from googleapiclient.errors import HttpError\n",
    "\n",
    "from d2labs_gcloud import ggs\n",
    "\n",
    "\n",
    "creds = None\n",
    "if os.path.exists('client_secrets.json'):\n",
    "    creds = service_account.Credentials.from_service_account_file(\n",
    "            'client_secrets.json', scopes=['https://www.googleapis.com/auth/spreadsheets'])\n"
   ]
  },
  {
   "cell_type": "code",
   "execution_count": 2,
   "metadata": {},
   "outputs": [
    {
     "name": "stdout",
     "output_type": "stream",
     "text": [
      "ggs class signed with cred : pcworks-order-management@bionic-slate-383814.iam.gserviceaccount.com\n"
     ]
    }
   ],
   "source": [
    "ggsheet = ggs(creds)"
   ]
  },
  {
   "cell_type": "code",
   "execution_count": 3,
   "metadata": {},
   "outputs": [
    {
     "name": "stdout",
     "output_type": "stream",
     "text": [
      "Spreadsheet ID: 190PmhdotM7fxzoQOEHPvzsUp88GhVtAvKJufT7n-6is\n"
     ]
    }
   ],
   "source": [
    "ttable = ggsheet.create(\"Test Table\")"
   ]
  },
  {
   "cell_type": "code",
   "execution_count": 6,
   "metadata": {},
   "outputs": [
    {
     "name": "stdout",
     "output_type": "stream",
     "text": [
      "0 rows retrieved\n"
     ]
    },
    {
     "data": {
      "text/plain": [
       "{'range': 'Sheet1!A2:B4', 'majorDimension': 'ROWS'}"
      ]
     },
     "execution_count": 6,
     "metadata": {},
     "output_type": "execute_result"
    }
   ],
   "source": [
    "ggsheet.get_values(ttable,\"A2:B4\")"
   ]
  },
  {
   "cell_type": "code",
   "execution_count": null,
   "metadata": {},
   "outputs": [],
   "source": [
    "ggsheet.append_values"
   ]
  }
 ],
 "metadata": {
  "kernelspec": {
   "display_name": "Python 3",
   "language": "python",
   "name": "python3"
  },
  "language_info": {
   "codemirror_mode": {
    "name": "ipython",
    "version": 3
   },
   "file_extension": ".py",
   "mimetype": "text/x-python",
   "name": "python",
   "nbconvert_exporter": "python",
   "pygments_lexer": "ipython3",
   "version": "3.9.9"
  },
  "orig_nbformat": 4
 },
 "nbformat": 4,
 "nbformat_minor": 2
}
